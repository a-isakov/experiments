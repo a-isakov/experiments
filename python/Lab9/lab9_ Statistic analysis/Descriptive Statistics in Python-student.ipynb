{
 "cells": [
  {
   "cell_type": "markdown",
   "metadata": {},
   "source": [
    "![Title](Images/cisco.png)"
   ]
  },
  {
   "cell_type": "markdown",
   "metadata": {},
   "source": [
    "# Data analysis techniques \n",
    "\n",
    "## Exploratory Data Analysis (EDA)\n",
    "\n",
    "EDA involves methods, tools, and techniques used to examine, summarize, and visualize data sets to uncover patterns, trends, relationships, and potential anomalies. \n",
    "\n",
    "It includes descriptive statistics, graphical representations, correlation analysis, outlier detection, and more. The goal of EDA is to gain insights into the data, generate hypotheses, and inform further analyses or modeling.\n",
    "\n",
    "**1. Descriptive analysis:** This type of analysis involves summarizing and describing the main features of a dataset. It aims to provide a clear understanding of the data's key characteristics, such as central tendency, distribution, and spread of values. \n",
    "Common descriptive statistics include measures like **mean, median, mode, standard deviation, variance, and quartiles**. \n",
    "\n",
    "Descriptive analysis helps in exploring and summarizing the data, identifying patterns, and gaining initial insights without making inferences or testing hypotheses.\n",
    "\n",
    "**2. Correlation analysis:** Correlation analysis examines the relationship between two or more variables in a dataset."
   ]
  },
  {
   "cell_type": "markdown",
   "metadata": {},
   "source": [
    "## Example:  Descriptive analysis on Human height"
   ]
  },
  {
   "cell_type": "markdown",
   "metadata": {},
   "source": [
    "One commonly used dataset for human height is the 'NHANES' dataset, which stands for the National Health and Nutrition Examination Survey. This dataset contains a wide range of health-related information, including anthropometric measurements such as height, weight, and more.\n",
    "\n",
    "Here's an example of how you might load the 'NHANES' dataset using the nhanes Python package to access human height data:\n",
    "\n",
    "First, install the nhanes package if you haven't already:"
   ]
  },
  {
   "cell_type": "code",
   "execution_count": null,
   "metadata": {},
   "outputs": [],
   "source": [
    "!pip install nhanes"
   ]
  },
  {
   "cell_type": "code",
   "execution_count": null,
   "metadata": {},
   "outputs": [],
   "source": [
    "Then, you can use the following Python code to load the 'NHANES' dataset and access human height data:"
   ]
  },
  {
   "cell_type": "markdown",
   "metadata": {},
   "source": [
    "## Importing modules"
   ]
  },
  {
   "cell_type": "code",
   "execution_count": 1,
   "metadata": {},
   "outputs": [],
   "source": [
    "import pandas as pd\n",
    "import matplotlib.pyplot as plt\n",
    "from nhanes.load import load_NHANES_data"
   ]
  },
  {
   "cell_type": "markdown",
   "metadata": {},
   "source": [
    "## Importing dataset"
   ]
  },
  {
   "cell_type": "code",
   "execution_count": 2,
   "metadata": {},
   "outputs": [],
   "source": [
    "# Load NHANES data\n",
    "nhanes_data = load_NHANES_data()\n",
    "\n"
   ]
  },
  {
   "cell_type": "code",
   "execution_count": 4,
   "metadata": {},
   "outputs": [
    {
     "data": {
      "text/html": [
       "<div>\n",
       "<style scoped>\n",
       "    .dataframe tbody tr th:only-of-type {\n",
       "        vertical-align: middle;\n",
       "    }\n",
       "\n",
       "    .dataframe tbody tr th {\n",
       "        vertical-align: top;\n",
       "    }\n",
       "\n",
       "    .dataframe thead th {\n",
       "        text-align: right;\n",
       "    }\n",
       "</style>\n",
       "<table border=\"1\" class=\"dataframe\">\n",
       "  <thead>\n",
       "    <tr style=\"text-align: right;\">\n",
       "      <th></th>\n",
       "      <th>GeneralHealthCondition</th>\n",
       "      <th>EverBreastfedOrFedBreastmilk</th>\n",
       "      <th>AgeStoppedBreastfeedingdays</th>\n",
       "      <th>AgeFirstFedFormuladays</th>\n",
       "      <th>AgeStoppedReceivingFormuladays</th>\n",
       "      <th>AgeStartedOtherFoodbeverage</th>\n",
       "      <th>AgeFirstFedMilkdays</th>\n",
       "      <th>TypeOfMilkFirstFedWholeMilk</th>\n",
       "      <th>TypeOfMilkFirstFed2Milk</th>\n",
       "      <th>TypeOfMilkFirstFed1Milk</th>\n",
       "      <th>...</th>\n",
       "      <th>DaysSmokedCigsDuringPast30Days</th>\n",
       "      <th>AvgCigarettesdayDuringPast30Days</th>\n",
       "      <th>TriedToQuitSmoking</th>\n",
       "      <th>TimesStoppedSmokingCigarettes</th>\n",
       "      <th>HowLongWereYouAbleToStopSmoking</th>\n",
       "      <th>UnitOfMeasureDayweekmonthyear_2_SMQ</th>\n",
       "      <th>CurrentSelfreportedHeightInches</th>\n",
       "      <th>CurrentSelfreportedWeightPounds</th>\n",
       "      <th>TriedToLoseWeightInPastYear</th>\n",
       "      <th>TimesLost10LbsOrMoreToLoseWeight</th>\n",
       "    </tr>\n",
       "    <tr>\n",
       "      <th>SEQN</th>\n",
       "      <th></th>\n",
       "      <th></th>\n",
       "      <th></th>\n",
       "      <th></th>\n",
       "      <th></th>\n",
       "      <th></th>\n",
       "      <th></th>\n",
       "      <th></th>\n",
       "      <th></th>\n",
       "      <th></th>\n",
       "      <th></th>\n",
       "      <th></th>\n",
       "      <th></th>\n",
       "      <th></th>\n",
       "      <th></th>\n",
       "      <th></th>\n",
       "      <th></th>\n",
       "      <th></th>\n",
       "      <th></th>\n",
       "      <th></th>\n",
       "      <th></th>\n",
       "    </tr>\n",
       "  </thead>\n",
       "  <tbody>\n",
       "    <tr>\n",
       "      <th>93703.0</th>\n",
       "      <td>NaN</td>\n",
       "      <td>1.0</td>\n",
       "      <td>273.0</td>\n",
       "      <td>1.0</td>\n",
       "      <td>365.0</td>\n",
       "      <td>152.0</td>\n",
       "      <td>365.0</td>\n",
       "      <td>Whole or regular milk</td>\n",
       "      <td>NaN</td>\n",
       "      <td>NaN</td>\n",
       "      <td>...</td>\n",
       "      <td>NaN</td>\n",
       "      <td>NaN</td>\n",
       "      <td>NaN</td>\n",
       "      <td>NaN</td>\n",
       "      <td>NaN</td>\n",
       "      <td>NaN</td>\n",
       "      <td>NaN</td>\n",
       "      <td>NaN</td>\n",
       "      <td>NaN</td>\n",
       "      <td>NaN</td>\n",
       "    </tr>\n",
       "    <tr>\n",
       "      <th>93704.0</th>\n",
       "      <td>NaN</td>\n",
       "      <td>1.0</td>\n",
       "      <td>60.0</td>\n",
       "      <td>3.0</td>\n",
       "      <td>365.0</td>\n",
       "      <td>126.0</td>\n",
       "      <td>365.0</td>\n",
       "      <td>Whole or regular milk</td>\n",
       "      <td>NaN</td>\n",
       "      <td>NaN</td>\n",
       "      <td>...</td>\n",
       "      <td>NaN</td>\n",
       "      <td>NaN</td>\n",
       "      <td>NaN</td>\n",
       "      <td>NaN</td>\n",
       "      <td>NaN</td>\n",
       "      <td>NaN</td>\n",
       "      <td>NaN</td>\n",
       "      <td>NaN</td>\n",
       "      <td>NaN</td>\n",
       "      <td>NaN</td>\n",
       "    </tr>\n",
       "    <tr>\n",
       "      <th>93705.0</th>\n",
       "      <td>Good</td>\n",
       "      <td>NaN</td>\n",
       "      <td>NaN</td>\n",
       "      <td>NaN</td>\n",
       "      <td>NaN</td>\n",
       "      <td>NaN</td>\n",
       "      <td>NaN</td>\n",
       "      <td>NaN</td>\n",
       "      <td>NaN</td>\n",
       "      <td>NaN</td>\n",
       "      <td>...</td>\n",
       "      <td>NaN</td>\n",
       "      <td>NaN</td>\n",
       "      <td>NaN</td>\n",
       "      <td>NaN</td>\n",
       "      <td>NaN</td>\n",
       "      <td>NaN</td>\n",
       "      <td>63.0</td>\n",
       "      <td>165.0</td>\n",
       "      <td>0.0</td>\n",
       "      <td>11 times or more</td>\n",
       "    </tr>\n",
       "    <tr>\n",
       "      <th>93706.0</th>\n",
       "      <td>Very good</td>\n",
       "      <td>NaN</td>\n",
       "      <td>NaN</td>\n",
       "      <td>NaN</td>\n",
       "      <td>NaN</td>\n",
       "      <td>NaN</td>\n",
       "      <td>NaN</td>\n",
       "      <td>NaN</td>\n",
       "      <td>NaN</td>\n",
       "      <td>NaN</td>\n",
       "      <td>...</td>\n",
       "      <td>NaN</td>\n",
       "      <td>NaN</td>\n",
       "      <td>NaN</td>\n",
       "      <td>NaN</td>\n",
       "      <td>NaN</td>\n",
       "      <td>NaN</td>\n",
       "      <td>68.0</td>\n",
       "      <td>145.0</td>\n",
       "      <td>0.0</td>\n",
       "      <td>Never</td>\n",
       "    </tr>\n",
       "    <tr>\n",
       "      <th>93707.0</th>\n",
       "      <td>Good</td>\n",
       "      <td>NaN</td>\n",
       "      <td>NaN</td>\n",
       "      <td>NaN</td>\n",
       "      <td>NaN</td>\n",
       "      <td>NaN</td>\n",
       "      <td>NaN</td>\n",
       "      <td>NaN</td>\n",
       "      <td>NaN</td>\n",
       "      <td>NaN</td>\n",
       "      <td>...</td>\n",
       "      <td>NaN</td>\n",
       "      <td>NaN</td>\n",
       "      <td>NaN</td>\n",
       "      <td>NaN</td>\n",
       "      <td>NaN</td>\n",
       "      <td>NaN</td>\n",
       "      <td>NaN</td>\n",
       "      <td>NaN</td>\n",
       "      <td>NaN</td>\n",
       "      <td>NaN</td>\n",
       "    </tr>\n",
       "    <tr>\n",
       "      <th>...</th>\n",
       "      <td>...</td>\n",
       "      <td>...</td>\n",
       "      <td>...</td>\n",
       "      <td>...</td>\n",
       "      <td>...</td>\n",
       "      <td>...</td>\n",
       "      <td>...</td>\n",
       "      <td>...</td>\n",
       "      <td>...</td>\n",
       "      <td>...</td>\n",
       "      <td>...</td>\n",
       "      <td>...</td>\n",
       "      <td>...</td>\n",
       "      <td>...</td>\n",
       "      <td>...</td>\n",
       "      <td>...</td>\n",
       "      <td>...</td>\n",
       "      <td>...</td>\n",
       "      <td>...</td>\n",
       "      <td>...</td>\n",
       "      <td>...</td>\n",
       "    </tr>\n",
       "    <tr>\n",
       "      <th>102952.0</th>\n",
       "      <td>Very good</td>\n",
       "      <td>NaN</td>\n",
       "      <td>NaN</td>\n",
       "      <td>NaN</td>\n",
       "      <td>NaN</td>\n",
       "      <td>NaN</td>\n",
       "      <td>NaN</td>\n",
       "      <td>NaN</td>\n",
       "      <td>NaN</td>\n",
       "      <td>NaN</td>\n",
       "      <td>...</td>\n",
       "      <td>NaN</td>\n",
       "      <td>NaN</td>\n",
       "      <td>NaN</td>\n",
       "      <td>NaN</td>\n",
       "      <td>NaN</td>\n",
       "      <td>NaN</td>\n",
       "      <td>NaN</td>\n",
       "      <td>117.0</td>\n",
       "      <td>0.0</td>\n",
       "      <td>Never</td>\n",
       "    </tr>\n",
       "    <tr>\n",
       "      <th>102953.0</th>\n",
       "      <td>Fair or</td>\n",
       "      <td>NaN</td>\n",
       "      <td>NaN</td>\n",
       "      <td>NaN</td>\n",
       "      <td>NaN</td>\n",
       "      <td>NaN</td>\n",
       "      <td>NaN</td>\n",
       "      <td>NaN</td>\n",
       "      <td>NaN</td>\n",
       "      <td>NaN</td>\n",
       "      <td>...</td>\n",
       "      <td>NaN</td>\n",
       "      <td>NaN</td>\n",
       "      <td>NaN</td>\n",
       "      <td>NaN</td>\n",
       "      <td>NaN</td>\n",
       "      <td>NaN</td>\n",
       "      <td>65.0</td>\n",
       "      <td>218.0</td>\n",
       "      <td>0.0</td>\n",
       "      <td>Never</td>\n",
       "    </tr>\n",
       "    <tr>\n",
       "      <th>102954.0</th>\n",
       "      <td>Good</td>\n",
       "      <td>NaN</td>\n",
       "      <td>NaN</td>\n",
       "      <td>NaN</td>\n",
       "      <td>NaN</td>\n",
       "      <td>NaN</td>\n",
       "      <td>NaN</td>\n",
       "      <td>NaN</td>\n",
       "      <td>NaN</td>\n",
       "      <td>NaN</td>\n",
       "      <td>...</td>\n",
       "      <td>NaN</td>\n",
       "      <td>NaN</td>\n",
       "      <td>NaN</td>\n",
       "      <td>NaN</td>\n",
       "      <td>NaN</td>\n",
       "      <td>NaN</td>\n",
       "      <td>66.0</td>\n",
       "      <td>150.0</td>\n",
       "      <td>0.0</td>\n",
       "      <td>Never</td>\n",
       "    </tr>\n",
       "    <tr>\n",
       "      <th>102955.0</th>\n",
       "      <td>Very good</td>\n",
       "      <td>NaN</td>\n",
       "      <td>NaN</td>\n",
       "      <td>NaN</td>\n",
       "      <td>NaN</td>\n",
       "      <td>NaN</td>\n",
       "      <td>NaN</td>\n",
       "      <td>NaN</td>\n",
       "      <td>NaN</td>\n",
       "      <td>NaN</td>\n",
       "      <td>...</td>\n",
       "      <td>NaN</td>\n",
       "      <td>NaN</td>\n",
       "      <td>NaN</td>\n",
       "      <td>NaN</td>\n",
       "      <td>NaN</td>\n",
       "      <td>NaN</td>\n",
       "      <td>NaN</td>\n",
       "      <td>NaN</td>\n",
       "      <td>NaN</td>\n",
       "      <td>NaN</td>\n",
       "    </tr>\n",
       "    <tr>\n",
       "      <th>102956.0</th>\n",
       "      <td>Good</td>\n",
       "      <td>NaN</td>\n",
       "      <td>NaN</td>\n",
       "      <td>NaN</td>\n",
       "      <td>NaN</td>\n",
       "      <td>NaN</td>\n",
       "      <td>NaN</td>\n",
       "      <td>NaN</td>\n",
       "      <td>NaN</td>\n",
       "      <td>NaN</td>\n",
       "      <td>...</td>\n",
       "      <td>30.0</td>\n",
       "      <td>20.0</td>\n",
       "      <td>1.0</td>\n",
       "      <td>1.0</td>\n",
       "      <td>2.0</td>\n",
       "      <td>Days</td>\n",
       "      <td>69.0</td>\n",
       "      <td>250.0</td>\n",
       "      <td>0.0</td>\n",
       "      <td>1 to 2</td>\n",
       "    </tr>\n",
       "  </tbody>\n",
       "</table>\n",
       "<p>8366 rows × 197 columns</p>\n",
       "</div>"
      ],
      "text/plain": [
       "         GeneralHealthCondition  EverBreastfedOrFedBreastmilk  \\\n",
       "SEQN                                                            \n",
       "93703.0                     NaN                           1.0   \n",
       "93704.0                     NaN                           1.0   \n",
       "93705.0                    Good                           NaN   \n",
       "93706.0               Very good                           NaN   \n",
       "93707.0                    Good                           NaN   \n",
       "...                         ...                           ...   \n",
       "102952.0              Very good                           NaN   \n",
       "102953.0                Fair or                           NaN   \n",
       "102954.0                   Good                           NaN   \n",
       "102955.0              Very good                           NaN   \n",
       "102956.0                   Good                           NaN   \n",
       "\n",
       "          AgeStoppedBreastfeedingdays  AgeFirstFedFormuladays  \\\n",
       "SEQN                                                            \n",
       "93703.0                         273.0                     1.0   \n",
       "93704.0                          60.0                     3.0   \n",
       "93705.0                           NaN                     NaN   \n",
       "93706.0                           NaN                     NaN   \n",
       "93707.0                           NaN                     NaN   \n",
       "...                               ...                     ...   \n",
       "102952.0                          NaN                     NaN   \n",
       "102953.0                          NaN                     NaN   \n",
       "102954.0                          NaN                     NaN   \n",
       "102955.0                          NaN                     NaN   \n",
       "102956.0                          NaN                     NaN   \n",
       "\n",
       "          AgeStoppedReceivingFormuladays  AgeStartedOtherFoodbeverage  \\\n",
       "SEQN                                                                    \n",
       "93703.0                            365.0                        152.0   \n",
       "93704.0                            365.0                        126.0   \n",
       "93705.0                              NaN                          NaN   \n",
       "93706.0                              NaN                          NaN   \n",
       "93707.0                              NaN                          NaN   \n",
       "...                                  ...                          ...   \n",
       "102952.0                             NaN                          NaN   \n",
       "102953.0                             NaN                          NaN   \n",
       "102954.0                             NaN                          NaN   \n",
       "102955.0                             NaN                          NaN   \n",
       "102956.0                             NaN                          NaN   \n",
       "\n",
       "          AgeFirstFedMilkdays TypeOfMilkFirstFedWholeMilk  \\\n",
       "SEQN                                                        \n",
       "93703.0                 365.0       Whole or regular milk   \n",
       "93704.0                 365.0       Whole or regular milk   \n",
       "93705.0                   NaN                         NaN   \n",
       "93706.0                   NaN                         NaN   \n",
       "93707.0                   NaN                         NaN   \n",
       "...                       ...                         ...   \n",
       "102952.0                  NaN                         NaN   \n",
       "102953.0                  NaN                         NaN   \n",
       "102954.0                  NaN                         NaN   \n",
       "102955.0                  NaN                         NaN   \n",
       "102956.0                  NaN                         NaN   \n",
       "\n",
       "          TypeOfMilkFirstFed2Milk  TypeOfMilkFirstFed1Milk  ...  \\\n",
       "SEQN                                                        ...   \n",
       "93703.0                       NaN                      NaN  ...   \n",
       "93704.0                       NaN                      NaN  ...   \n",
       "93705.0                       NaN                      NaN  ...   \n",
       "93706.0                       NaN                      NaN  ...   \n",
       "93707.0                       NaN                      NaN  ...   \n",
       "...                           ...                      ...  ...   \n",
       "102952.0                      NaN                      NaN  ...   \n",
       "102953.0                      NaN                      NaN  ...   \n",
       "102954.0                      NaN                      NaN  ...   \n",
       "102955.0                      NaN                      NaN  ...   \n",
       "102956.0                      NaN                      NaN  ...   \n",
       "\n",
       "          DaysSmokedCigsDuringPast30Days  AvgCigarettesdayDuringPast30Days  \\\n",
       "SEQN                                                                         \n",
       "93703.0                              NaN                               NaN   \n",
       "93704.0                              NaN                               NaN   \n",
       "93705.0                              NaN                               NaN   \n",
       "93706.0                              NaN                               NaN   \n",
       "93707.0                              NaN                               NaN   \n",
       "...                                  ...                               ...   \n",
       "102952.0                             NaN                               NaN   \n",
       "102953.0                             NaN                               NaN   \n",
       "102954.0                             NaN                               NaN   \n",
       "102955.0                             NaN                               NaN   \n",
       "102956.0                            30.0                              20.0   \n",
       "\n",
       "          TriedToQuitSmoking TimesStoppedSmokingCigarettes  \\\n",
       "SEQN                                                         \n",
       "93703.0                  NaN                           NaN   \n",
       "93704.0                  NaN                           NaN   \n",
       "93705.0                  NaN                           NaN   \n",
       "93706.0                  NaN                           NaN   \n",
       "93707.0                  NaN                           NaN   \n",
       "...                      ...                           ...   \n",
       "102952.0                 NaN                           NaN   \n",
       "102953.0                 NaN                           NaN   \n",
       "102954.0                 NaN                           NaN   \n",
       "102955.0                 NaN                           NaN   \n",
       "102956.0                 1.0                           1.0   \n",
       "\n",
       "         HowLongWereYouAbleToStopSmoking UnitOfMeasureDayweekmonthyear_2_SMQ  \\\n",
       "SEQN                                                                           \n",
       "93703.0                              NaN                                 NaN   \n",
       "93704.0                              NaN                                 NaN   \n",
       "93705.0                              NaN                                 NaN   \n",
       "93706.0                              NaN                                 NaN   \n",
       "93707.0                              NaN                                 NaN   \n",
       "...                                  ...                                 ...   \n",
       "102952.0                             NaN                                 NaN   \n",
       "102953.0                             NaN                                 NaN   \n",
       "102954.0                             NaN                                 NaN   \n",
       "102955.0                             NaN                                 NaN   \n",
       "102956.0                             2.0                                Days   \n",
       "\n",
       "          CurrentSelfreportedHeightInches  CurrentSelfreportedWeightPounds  \\\n",
       "SEQN                                                                         \n",
       "93703.0                               NaN                              NaN   \n",
       "93704.0                               NaN                              NaN   \n",
       "93705.0                              63.0                            165.0   \n",
       "93706.0                              68.0                            145.0   \n",
       "93707.0                               NaN                              NaN   \n",
       "...                                   ...                              ...   \n",
       "102952.0                              NaN                            117.0   \n",
       "102953.0                             65.0                            218.0   \n",
       "102954.0                             66.0                            150.0   \n",
       "102955.0                              NaN                              NaN   \n",
       "102956.0                             69.0                            250.0   \n",
       "\n",
       "          TriedToLoseWeightInPastYear  TimesLost10LbsOrMoreToLoseWeight  \n",
       "SEQN                                                                     \n",
       "93703.0                           NaN                               NaN  \n",
       "93704.0                           NaN                               NaN  \n",
       "93705.0                           0.0                  11 times or more  \n",
       "93706.0                           0.0                             Never  \n",
       "93707.0                           NaN                               NaN  \n",
       "...                               ...                               ...  \n",
       "102952.0                          0.0                             Never  \n",
       "102953.0                          0.0                             Never  \n",
       "102954.0                          0.0                             Never  \n",
       "102955.0                          NaN                               NaN  \n",
       "102956.0                          0.0                            1 to 2  \n",
       "\n",
       "[8366 rows x 197 columns]"
      ]
     },
     "execution_count": 4,
     "metadata": {},
     "output_type": "execute_result"
    }
   ],
   "source": [
    "nhanes_data"
   ]
  },
  {
   "cell_type": "markdown",
   "metadata": {},
   "source": [
    "Question: Print \n",
    "\n",
    "    1. type of nhanes_data  \n",
    "    2. 'CurrentSelfreportedHeightInches' column. "
   ]
  },
  {
   "cell_type": "code",
   "execution_count": 3,
   "metadata": {},
   "outputs": [
    {
     "data": {
      "text/plain": [
       "pandas.core.frame.DataFrame"
      ]
     },
     "execution_count": 3,
     "metadata": {},
     "output_type": "execute_result"
    }
   ],
   "source": [
    "type(nhanes_data)"
   ]
  },
  {
   "cell_type": "code",
   "execution_count": null,
   "metadata": {},
   "outputs": [],
   "source": [
    "nhanes_data"
   ]
  },
  {
   "cell_type": "code",
   "execution_count": 5,
   "metadata": {},
   "outputs": [
    {
     "data": {
      "text/plain": [
       "Index(['GeneralHealthCondition', 'EverBreastfedOrFedBreastmilk',\n",
       "       'AgeStoppedBreastfeedingdays', 'AgeFirstFedFormuladays',\n",
       "       'AgeStoppedReceivingFormuladays', 'AgeStartedOtherFoodbeverage',\n",
       "       'AgeFirstFedMilkdays', 'TypeOfMilkFirstFedWholeMilk',\n",
       "       'TypeOfMilkFirstFed2Milk', 'TypeOfMilkFirstFed1Milk',\n",
       "       ...\n",
       "       'DaysSmokedCigsDuringPast30Days', 'AvgCigarettesdayDuringPast30Days',\n",
       "       'TriedToQuitSmoking', 'TimesStoppedSmokingCigarettes',\n",
       "       'HowLongWereYouAbleToStopSmoking',\n",
       "       'UnitOfMeasureDayweekmonthyear_2_SMQ',\n",
       "       'CurrentSelfreportedHeightInches', 'CurrentSelfreportedWeightPounds',\n",
       "       'TriedToLoseWeightInPastYear', 'TimesLost10LbsOrMoreToLoseWeight'],\n",
       "      dtype='object', length=197)"
      ]
     },
     "execution_count": 5,
     "metadata": {},
     "output_type": "execute_result"
    }
   ],
   "source": [
    "nhanes_data.columns"
   ]
  },
  {
   "cell_type": "code",
   "execution_count": null,
   "metadata": {},
   "outputs": [],
   "source": [
    "nhanes_data.shape"
   ]
  },
  {
   "cell_type": "code",
   "execution_count": 6,
   "metadata": {},
   "outputs": [
    {
     "data": {
      "text/plain": [
       "SEQN\n",
       "93703.0      NaN\n",
       "93704.0      NaN\n",
       "93705.0     63.0\n",
       "93706.0     68.0\n",
       "93707.0      NaN\n",
       "            ... \n",
       "102952.0     NaN\n",
       "102953.0    65.0\n",
       "102954.0    66.0\n",
       "102955.0     NaN\n",
       "102956.0    69.0\n",
       "Name: CurrentSelfreportedHeightInches, Length: 8366, dtype: float64"
      ]
     },
     "execution_count": 6,
     "metadata": {},
     "output_type": "execute_result"
    }
   ],
   "source": [
    "nhanes_data['CurrentSelfreportedHeightInches']"
   ]
  },
  {
   "cell_type": "markdown",
   "metadata": {},
   "source": [
    "###   <font color='red'> (Question 1 for compensating missing score from midterm:)</font>\n",
    "\n",
    "Could you generate a Series using the 'CurrentSelfreportedHeightInches' column from the nhanes_data, but this time, converting the values from inches to centimeters (where 1 inch equals 2.54 centimeters)?"
   ]
  },
  {
   "cell_type": "code",
   "execution_count": 8,
   "metadata": {},
   "outputs": [],
   "source": [
    "# Solution 1\n",
    "# height_data = pd.Series(nhanes_data['CurrentSelfreportedHeightInches'].apply(lambda s: s*2.54))\n",
    "\n",
    "\n",
    "# Solution 2\n",
    "height_data = nhanes_data['CurrentSelfreportedHeightInches']*2.54\n"
   ]
  },
  {
   "cell_type": "code",
   "execution_count": 9,
   "metadata": {},
   "outputs": [
    {
     "data": {
      "text/plain": [
       "SEQN\n",
       "93703.0        NaN\n",
       "93704.0        NaN\n",
       "93705.0     160.02\n",
       "93706.0     172.72\n",
       "93707.0        NaN\n",
       "             ...  \n",
       "102952.0       NaN\n",
       "102953.0    165.10\n",
       "102954.0    167.64\n",
       "102955.0       NaN\n",
       "102956.0    175.26\n",
       "Name: CurrentSelfreportedHeightInches, Length: 8366, dtype: float64"
      ]
     },
     "execution_count": 9,
     "metadata": {},
     "output_type": "execute_result"
    }
   ],
   "source": [
    "height_data"
   ]
  },
  {
   "cell_type": "code",
   "execution_count": 10,
   "metadata": {},
   "outputs": [
    {
     "data": {
      "text/plain": [
       "pandas.core.series.Series"
      ]
     },
     "execution_count": 10,
     "metadata": {},
     "output_type": "execute_result"
    }
   ],
   "source": [
    "type(height_data)"
   ]
  },
  {
   "cell_type": "code",
   "execution_count": 11,
   "metadata": {},
   "outputs": [
    {
     "data": {
      "text/plain": [
       "(8366,)"
      ]
     },
     "execution_count": 11,
     "metadata": {},
     "output_type": "execute_result"
    }
   ],
   "source": [
    "height_data.shape"
   ]
  },
  {
   "cell_type": "markdown",
   "metadata": {},
   "source": [
    "## Exploring Data"
   ]
  },
  {
   "cell_type": "code",
   "execution_count": 12,
   "metadata": {},
   "outputs": [
    {
     "data": {
      "text/plain": [
       "SEQN\n",
       "93703.0       NaN\n",
       "93704.0       NaN\n",
       "93705.0    160.02\n",
       "93706.0    172.72\n",
       "93707.0       NaN\n",
       "Name: CurrentSelfreportedHeightInches, dtype: float64"
      ]
     },
     "execution_count": 12,
     "metadata": {},
     "output_type": "execute_result"
    }
   ],
   "source": [
    "height_data.head()"
   ]
  },
  {
   "cell_type": "code",
   "execution_count": 13,
   "metadata": {},
   "outputs": [
    {
     "data": {
      "text/plain": [
       "SEQN\n",
       "102952.0       NaN\n",
       "102953.0    165.10\n",
       "102954.0    167.64\n",
       "102955.0       NaN\n",
       "102956.0    175.26\n",
       "Name: CurrentSelfreportedHeightInches, dtype: float64"
      ]
     },
     "execution_count": 13,
     "metadata": {},
     "output_type": "execute_result"
    }
   ],
   "source": [
    "height_data.tail()"
   ]
  },
  {
   "cell_type": "code",
   "execution_count": null,
   "metadata": {},
   "outputs": [],
   "source": [
    "height_data.head()"
   ]
  },
  {
   "cell_type": "code",
   "execution_count": null,
   "metadata": {},
   "outputs": [],
   "source": [
    "type(height_data)"
   ]
  },
  {
   "cell_type": "code",
   "execution_count": null,
   "metadata": {},
   "outputs": [],
   "source": [
    "height_data"
   ]
  },
  {
   "cell_type": "code",
   "execution_count": null,
   "metadata": {},
   "outputs": [],
   "source": [
    "type(height_data)"
   ]
  },
  {
   "cell_type": "code",
   "execution_count": null,
   "metadata": {},
   "outputs": [],
   "source": [
    "height_data"
   ]
  },
  {
   "cell_type": "code",
   "execution_count": 14,
   "metadata": {},
   "outputs": [
    {
     "data": {
      "text/plain": [
       "count     5776.000000\n",
       "mean       691.449037\n",
       "std       3592.877997\n",
       "min        124.460000\n",
       "25%        160.020000\n",
       "50%        167.640000\n",
       "75%        177.800000\n",
       "max      25397.460000\n",
       "Name: CurrentSelfreportedHeightInches, dtype: float64"
      ]
     },
     "execution_count": 14,
     "metadata": {},
     "output_type": "execute_result"
    }
   ],
   "source": [
    "height_data.describe()"
   ]
  },
  {
   "cell_type": "markdown",
   "metadata": {},
   "source": [
    "## Cleaning and preparing dataset"
   ]
  },
  {
   "cell_type": "markdown",
   "metadata": {},
   "source": [
    "### Removing non values"
   ]
  },
  {
   "cell_type": "code",
   "execution_count": 15,
   "metadata": {},
   "outputs": [],
   "source": [
    "height_data.dropna(inplace = True)"
   ]
  },
  {
   "cell_type": "code",
   "execution_count": 16,
   "metadata": {},
   "outputs": [
    {
     "data": {
      "text/plain": [
       "(5776,)"
      ]
     },
     "execution_count": 16,
     "metadata": {},
     "output_type": "execute_result"
    }
   ],
   "source": [
    "height_data.shape"
   ]
  },
  {
   "cell_type": "markdown",
   "metadata": {},
   "source": [
    "### Deleting outliers"
   ]
  },
  {
   "cell_type": "code",
   "execution_count": 17,
   "metadata": {},
   "outputs": [
    {
     "name": "stdout",
     "output_type": "stream",
     "text": [
      "SEQN\n",
      "93705.0     160.02\n",
      "93706.0     172.72\n",
      "93708.0     152.40\n",
      "93709.0     157.48\n",
      "93711.0     175.26\n",
      "             ...  \n",
      "102948.0    160.02\n",
      "102949.0    182.88\n",
      "102953.0    165.10\n",
      "102954.0    167.64\n",
      "102956.0    175.26\n",
      "Name: CurrentSelfreportedHeightInches, Length: 5650, dtype: float64\n"
     ]
    }
   ],
   "source": [
    "\n",
    "# Filter the height data series to remove outliers\n",
    "filtered_heights = height_data[(height_data > 130) & (height_data < 204)]\n",
    "\n",
    "# Display the filtered heights\n",
    "print(filtered_heights)"
   ]
  },
  {
   "cell_type": "code",
   "execution_count": 18,
   "metadata": {},
   "outputs": [
    {
     "data": {
      "text/plain": [
       "count    5650.000000\n",
       "mean      168.289611\n",
       "std        10.475220\n",
       "min       134.620000\n",
       "25%       160.020000\n",
       "50%       167.640000\n",
       "75%       175.260000\n",
       "max       200.660000\n",
       "Name: CurrentSelfreportedHeightInches, dtype: float64"
      ]
     },
     "execution_count": 18,
     "metadata": {},
     "output_type": "execute_result"
    }
   ],
   "source": [
    "filtered_heights.describe()"
   ]
  },
  {
   "cell_type": "code",
   "execution_count": null,
   "metadata": {},
   "outputs": [],
   "source": []
  },
  {
   "cell_type": "markdown",
   "metadata": {},
   "source": [
    "## How to calculate quartile? \n",
    "\n",
    "**Dataset:**\n",
    "{55, 15, 40, 25, 30, 35, 20, 45, 50, 10}\n",
    "\n",
    "1. Arrange the data in ascending order: \n",
    "{10, 15, 20, 25, 30, 35, 40, 45, 50, 55}\n",
    "\n",
    "2. Identify the positions for Q1 (25th percentile), Q2 (median or 50th percentile), and Q3 (75th percentile).\n",
    "\n",
    "![Title](Images/quartile.png)\n"
   ]
  },
  {
   "cell_type": "markdown",
   "metadata": {},
   "source": [
    "### How to Calculate Standard Deviation\n",
    "\n",
    "The standard deviation (\\( \\sigma \\)) is a measure of the amount of variation or dispersion in a set of values. It quantifies how much the individual values in a dataset differ from the mean value of the dataset.\n",
    "\n",
    " ![Alt Text](Images/std.png)\n",
    "\n",
    " ![Alt Text](Images/std_example.png)"
   ]
  },
  {
   "cell_type": "markdown",
   "metadata": {},
   "source": [
    "## Viualizing data"
   ]
  },
  {
   "cell_type": "code",
   "execution_count": 19,
   "metadata": {},
   "outputs": [
    {
     "data": {
      "image/png": "[encoded data removed]",
      "text/plain": [
       "<Figure size 576x432 with 1 Axes>"
      ]
     },
     "metadata": {
      "needs_background": "light"
     },
     "output_type": "display_data"
    }
   ],
   "source": [
    "# Plotting a histogram of human height data\n",
    "plt.figure(figsize=(8, 6))\n",
    "plt.hist(filtered_heights, bins=20, color='skyblue', edgecolor='black')\n",
    "plt.title('Distribution of Human Heights')\n",
    "plt.xlabel('Height (cm)')\n",
    "plt.ylabel('Frequency')\n",
    "plt.grid(True)\n",
    "plt.show()"
   ]
  },
  {
   "cell_type": "markdown",
   "metadata": {},
   "source": [
    "## Normal Distribution"
   ]
  },
  {
   "cell_type": "markdown",
   "metadata": {},
   "source": [
    "A Gaussian distribution, also known as a normal distribution, is a continuous probability distribution that is symmetric around its mean. It is characterized by its bell-shaped curve and is widely used in statistics due to its mathematical tractability and its prevalence in natural phenomena.\n",
    "\n",
    "Key characteristics of a Gaussian distribution:\n",
    "\n",
    "1. **Symmetry:** The distribution is symmetric around its mean, with the mean, median, and mode all being the same value.\n",
    "\n",
    "2. **Bell-shaped curve:** The shape of the distribution forms a bell curve when plotted, with the majority of the data clustered around the mean and gradually decreasing as it moves away from the mean.\n",
    "\n",
    "3. **Defined by mean and standard deviation:** It is parameterized by two parameters: the mean (μ), which represents the center of the distribution, and the standard deviation (σ), which determines the spread or dispersion of the data points from the mean.\n",
    "\n",
    "4. **68-95-99.7 rule (Empirical Rule):** In a normal distribution, approximately 68% of the data falls within one standard deviation from the mean, about 95% within two standard deviations, and around 99.7% within three standard deviations.\n",
    "\n",
    "5. **Central Limit Theorem:** Many natural phenomena and measurements tend to follow a normal distribution due to the central limit theorem, which states that the distribution of sample means from a population will tend to be normal regardless of the original distribution of the population if the sample size is large enough.\n",
    "\n",
    "Real-life data that approximate a Gaussian distribution can be found in various natural and social phenomena. Here are some examples:\n",
    "\n",
    "### Human Characteristics:\n",
    "- **Height:** Human heights often approximate a Gaussian distribution within specific populations or age groups. For example, adult male or female heights within certain demographics can display a roughly normal distribution.\n",
    "- **Weight:** In populations with similar lifestyles and nutritional habits, weights of individuals might follow a Gaussian distribution.\n",
    "\n",
    "### Test Scores and Grades:\n",
    "- **Standardized Test Scores:** Scores from standardized tests like SAT, GRE, or IQ tests can exhibit a normal distribution, especially when the test-taking population is large and diverse.\n",
    "- **Grades in Large Classes:** In large classes or courses with diverse groups of students, final grades might tend to form a normal distribution.\n",
    "\n",
    "### Measurement Errors:\n",
    "- **Experimental Measurement Errors:** Errors in experimental measurements, especially when they involve many random factors, can follow a Gaussian distribution.\n",
    "\n",
    "### Natural Phenomena:\n",
    "- **Measurement of Natural Phenomena:** Observations of natural phenomena like rainfall, temperature variations, or environmental data, when large samples are taken over time or space, may exhibit a Gaussian distribution.\n",
    "\n",
    "### Financial Markets:\n",
    "- **Stock Prices:** Daily stock price changes can often be approximated by a normal distribution within certain periods.\n",
    "- **Returns on Investments:** In finance, returns on certain investments can display characteristics of a normal distribution.\n",
    "\n",
    "It's important to note that while many real-world phenomena approximate a Gaussian distribution, few things are perfectly normal. Deviations can occur due to various factors such as sample size, population characteristics, or specific constraints of the system being observed. Statistical methods often use the assumption of normality as an approximation rather than a precise description of the data."
   ]
  },
  {
   "cell_type": "code",
   "execution_count": null,
   "metadata": {},
   "outputs": [],
   "source": [
    "print(5776*68/100)  "
   ]
  },
  {
   "cell_type": "code",
   "execution_count": null,
   "metadata": {},
   "outputs": [],
   "source": [
    "filtered_heights.describe()"
   ]
  },
  {
   "cell_type": "markdown",
   "metadata": {},
   "source": [
    "count: Indicates the number of data points in the 'height_sm' column. In this dataset, there are 5650 observations of height.\n",
    "\n",
    "mean: Represents the average or arithmetic mean height, which is approximately 168.29 centimeters. This value is the sum of all heights divided by the number of observations (5650).\n",
    "\n",
    "std: Denotes the standard deviation of heights, measuring the amount of variation or dispersion in the dataset around the mean height. The standard deviation is approximately 10.48 centimeters.\n",
    "\n",
    "min: Indicates the minimum height observed in the dataset, which is approximately 134.62 centimeters. This is the smallest recorded height.\n",
    "\n",
    "25% (Q1): Represents the first quartile or 25th percentile of the dataset. About 25% of the observations have heights below 160.02 centimeters.\n",
    "\n",
    "50% (median or Q2): Corresponds to the median height in the dataset. Half of the observations have heights below 167.64 centimeters, and half have heights above this value.\n",
    "\n",
    "75% (Q3): Represents the third quartile or 75th percentile. About 75% of the observations have heights below 175.26 centimeters.\n",
    "\n",
    "max: Denotes the maximum height observed in the dataset, which is approximately 200.66 centimeters. This is the tallest recorded height.\n",
    "\n",
    "These statistics offer insights into the central tendency (mean), spread (standard deviation), and distribution (quartiles, min, max) of the height data, aiding in understanding the range and variability of human heights within the dataset.\n",
    "\n"
   ]
  },
  {
   "cell_type": "markdown",
   "metadata": {},
   "source": [
    "\n",
    "\n",
    "\n"
   ]
  },
  {
   "cell_type": "markdown",
   "metadata": {
    "collapsed": true
   },
   "source": [
    "<font size='0.5'>&copy; 2017 Cisco and/or its affiliates. All rights reserved. This document is Cisco Public.<font>"
   ]
  }
 ],
 "metadata": {
  "anaconda-cloud": {},
  "kernelspec": {
   "display_name": "Python 3 (ipykernel)",
   "language": "python",
   "name": "python3"
  },
  "language_info": {
   "codemirror_mode": {
    "name": "ipython",
    "version": 3
   },
   "file_extension": ".py",
   "mimetype": "text/x-python",
   "name": "python",
   "nbconvert_exporter": "python",
   "pygments_lexer": "ipython3",
   "version": "3.8.8"
  }
 },
 "nbformat": 4,
 "nbformat_minor": 1
}
