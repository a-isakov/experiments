{
 "cells": [
  {
   "cell_type": "markdown",
   "metadata": {},
   "source": [
    "![Title](Images/cisco.png)"
   ]
  },
  {
   "cell_type": "markdown",
   "metadata": {},
   "source": [
    "# Lab - Correlation Analysis in Python\n"
   ]
  },
  {
   "cell_type": "markdown",
   "metadata": {},
   "source": [
    "### Scenario/Background\n",
    "\n",
    "\n",
    "**Correlation analysis** is a statistical method used to evaluate the strength and direction of the relationship between two quantitative variables. It measures how changes in one variable are associated with changes in another variable.\n",
    "\n",
    "The correlation coefficient, typically denoted by \"r,\" quantifies this relationship.For example, Pearson correlation coefficient, It ranges from -1 to +1:\n",
    "\n",
    "- A positive correlation (closer to +1) indicates that as one variable increases, the other tends to increase as well.\n",
    "- A negative correlation (closer to -1) indicates that as one variable increases, the other tends to decrease.\n",
    "- A correlation close to zero suggests a weak or no linear relationship between the variables.\n",
    "\n",
    "\n",
    "Correlation analysis helps in understanding and exploring associations between variables in various fields such as economics, social sciences, finance, and more. \n",
    "\n",
    "However, it's important to note that correlation does not imply causation, meaning that even if two variables are correlated, it doesn't necessarily mean that changes in one variable cause changes in the other.\n",
    "\n",
    "![Title](Images/correlation.png)\n",
    "\n",
    "\n",
    "There are several other correlation coefficients used in statistics to measure the relationship between variables, apart from the Pearson correlation coefficient. \n",
    "\n",
    "\n",
    "In this lab, you will learn how to use Python to calculate correlation. In Part 1, you will setup the dataset. In Part 2, you will learn how to identify if the variables in a given dataset are correlatable. Finally, in Part 3, you will use Python to calculate the correlation between two sets of variable."
   ]
  },
  {
   "cell_type": "markdown",
   "metadata": {},
   "source": [
    "## Example 1"
   ]
  },
  {
   "cell_type": "code",
   "execution_count": 4,
   "metadata": {},
   "outputs": [
    {
     "name": "stdout",
     "output_type": "stream",
     "text": [
      "Mean of variable1: 3.0\n",
      "Pearson correlation coefficient: -0.9999999999999999\n"
     ]
    }
   ],
   "source": [
    "import pandas as pd\n",
    "\n",
    "# Sample data\n",
    "data = {\n",
    "    'Variable_1': [1, 2, 3, 4, 5],\n",
    "    'Variable_2': [5, 4, 3, 2, 1]\n",
    "}\n",
    "\n",
    "# Creating a DataFrame from the sample data\n",
    "df = pd.DataFrame(data)\n",
    "\n",
    "# Calculating mean of  Variable_1.\n",
    "mean_of_variable1 = df['Variable_1'].mean()\n",
    "print(f'Mean of variable1: {mean_of_variable1}')\n",
    "\n",
    "# Calculating Pearson correlation coefficient between Variable_1 and Variable_2\n",
    "pearson_corr = df['Variable_1'].corr(df['Variable_2'])\n",
    "\n",
    "print(f\"Pearson correlation coefficient: {pearson_corr}\")\n"
   ]
  },
  {
   "cell_type": "markdown",
   "metadata": {},
   "source": [
    "## Example 2"
   ]
  },
  {
   "cell_type": "markdown",
   "metadata": {},
   "source": [
    "- Seaborn is a Python data visualization library based on Matplotlib that provides a high-level interface for creating attractive and informative statistical graphics. It's built on top of Matplotlib and integrates well with Pandas data structures.\n",
    "\n",
    "- Seaborn provides built-in datasets that are useful for practicing data visualization, testing various plotting functions, and learning data analysis techniques. These datasets are accessible through Seaborn's load_dataset() function and are stored in a structured format like Pandas DataFrames.\n",
    " \n",
    " Let's create an example using real-life data to calculate the Pearson correlation coefficient between two variables. \n",
    " \n",
    "- We'll use the seaborn library to load a sample dataset and calculate the correlation between two columns.\n",
    "\n",
    "- First, if you don't have seaborn installed, you can install it via pip:"
   ]
  },
  {
   "cell_type": "code",
   "execution_count": null,
   "metadata": {},
   "outputs": [],
   "source": [
    "!pip install seaborn"
   ]
  },
  {
   "cell_type": "markdown",
   "metadata": {},
   "source": [
    "Here's an example using the tips dataset available in seaborn to calculate the correlation between the total bill amount and the tip amount:"
   ]
  },
  {
   "cell_type": "markdown",
   "metadata": {},
   "source": [
    "## Import Dataset"
   ]
  },
  {
   "cell_type": "code",
   "execution_count": null,
   "metadata": {},
   "outputs": [],
   "source": [
    "import seaborn as sns\n",
    "\n",
    "# Load the 'tips' dataset from seaborn\n",
    "tips = sns.load_dataset('tips')\n"
   ]
  },
  {
   "cell_type": "markdown",
   "metadata": {},
   "source": [
    "## Exploring dataset"
   ]
  },
  {
   "cell_type": "code",
   "execution_count": null,
   "metadata": {},
   "outputs": [],
   "source": [
    "# Display the first few rows of the dataset\n",
    "print(tips.head())"
   ]
  },
  {
   "cell_type": "code",
   "execution_count": null,
   "metadata": {},
   "outputs": [],
   "source": [
    "print(tips.tail())"
   ]
  },
  {
   "cell_type": "code",
   "execution_count": null,
   "metadata": {},
   "outputs": [],
   "source": [
    "print(tips.shape)"
   ]
  },
  {
   "cell_type": "code",
   "execution_count": null,
   "metadata": {},
   "outputs": [],
   "source": [
    "tips.describe()"
   ]
  },
  {
   "cell_type": "markdown",
   "metadata": {},
   "source": [
    "## Calculating Correlation with Python"
   ]
  },
  {
   "cell_type": "code",
   "execution_count": null,
   "metadata": {},
   "outputs": [],
   "source": [
    "# Calculate the Pearson correlation coefficient between 'total_bill' and 'tip'\n",
    "correlation = tips['total_bill'].corr(tips['tip'])\n",
    "print(f\"Pearson correlation coefficient: {correlation}\")"
   ]
  },
  {
   "cell_type": "markdown",
   "metadata": {},
   "source": [
    "Question: \n",
    " \n",
    "1. Create manDF and womanDF dataframes by filtering the data based on the 'sex' column.\n",
    "2. Analyze correlation between total_bill and tip for each dataframe\n"
   ]
  },
  {
   "cell_type": "code",
   "execution_count": null,
   "metadata": {},
   "outputs": [],
   "source": [
    "manDF = tips[tips['sex'] == 'Male']\n",
    "type(manDF)"
   ]
  },
  {
   "cell_type": "code",
   "execution_count": null,
   "metadata": {},
   "outputs": [],
   "source": [
    "correlation = manDF['total_bill'].corr(manDF['tip'])\n",
    "print(f\"Pearson correlation coefficient: {correlation}\")"
   ]
  },
  {
   "cell_type": "code",
   "execution_count": null,
   "metadata": {},
   "outputs": [],
   "source": [
    "womanDF = tips[tips['sex'] == 'Female']\n",
    "correlation = womanDF['total_bill'].corr(womanDF['tip'])\n",
    "print(f\"Pearson correlation coefficient: {correlation}\")"
   ]
  },
  {
   "cell_type": "markdown",
   "metadata": {},
   "source": [
    "Question: \n",
    " \n",
    "1. Create manDF and womanDF dataframes by filtering the data based on the 'smoker' column.\n",
    "2. Analyze correlation between total_bill and tip for each dataframe"
   ]
  },
  {
   "cell_type": "code",
   "execution_count": null,
   "metadata": {},
   "outputs": [],
   "source": [
    "smokerDF = tips[tips['smoker'] == 'Yes']\n",
    "correlation = smokerDF['total_bill'].corr(smokerDF['tip'])\n",
    "print(f\"Pearson correlation coefficient: {correlation}\")"
   ]
  },
  {
   "cell_type": "code",
   "execution_count": null,
   "metadata": {},
   "outputs": [],
   "source": [
    "nonsmokerDF = tips[tips['smoker'] == 'No']\n",
    "correlation = nonsmokerDF['total_bill'].corr(nonsmokerDF['tip'])\n",
    "print(f\"Pearson correlation coefficient: {correlation}\")"
   ]
  },
  {
   "cell_type": "markdown",
   "metadata": {},
   "source": [
    "## Visualizing Data"
   ]
  },
  {
   "cell_type": "code",
   "execution_count": null,
   "metadata": {},
   "outputs": [],
   "source": [
    "import matplotlib.pyplot as plt"
   ]
  },
  {
   "cell_type": "code",
   "execution_count": null,
   "metadata": {},
   "outputs": [],
   "source": [
    "plt.scatter(smokerDF['total_bill'], smokerDF['tip'])\n",
    "\n",
    "plt.xlabel('Total Bill')\n",
    "plt.ylabel('Tip')\n",
    "plt.show()\n",
    "\n",
    "%matplotlib inline"
   ]
  },
  {
   "cell_type": "code",
   "execution_count": null,
   "metadata": {},
   "outputs": [],
   "source": [
    "plt.scatter(nonsmokerDF['total_bill'], nonsmokerDF['tip'])\n",
    "\n",
    "plt.xlabel('Total Bill')\n",
    "plt.ylabel('Tip')\n",
    "plt.show()\n",
    "\n",
    "%matplotlib inline"
   ]
  },
  {
   "cell_type": "code",
   "execution_count": null,
   "metadata": {},
   "outputs": [],
   "source": [
    "tips"
   ]
  },
  {
   "cell_type": "markdown",
   "metadata": {},
   "source": [
    "## Calculate correlation against tips.\n",
    "The pandas `corr()` method provides an easy way to calculate correlation against a dataframe. By simply calling the method against a dataframe, one can get the correlation between all variables at the same time."
   ]
  },
  {
   "cell_type": "code",
   "execution_count": null,
   "metadata": {},
   "outputs": [],
   "source": [
    "# correlation = tips['total_bill'].corr(tips['tip'])\n",
    "tips.corr(method='pearson')"
   ]
  },
  {
   "cell_type": "markdown",
   "metadata": {},
   "source": [
    "Notice at the left-to-right diagonal in the correlation table generated above. Why is the diagonal filled with 1s? Is that a coincidence? Explain."
   ]
  },
  {
   "cell_type": "markdown",
   "metadata": {},
   "source": [
    "Still looking at the correlation table above, notice that the values are mirrored; values below the 1 diagonal have a mirrored counterpart above the 1 diagonal. Is that a coincidence? Explain."
   ]
  },
  {
   "cell_type": "code",
   "execution_count": null,
   "metadata": {},
   "outputs": [],
   "source": [
    "tcorr = tips.corr()\n",
    "sns.heatmap(tcorr)"
   ]
  }
 ],
 "metadata": {
  "anaconda-cloud": {},
  "kernelspec": {
   "display_name": "Python 3 (ipykernel)",
   "language": "python",
   "name": "python3"
  },
  "language_info": {
   "codemirror_mode": {
    "name": "ipython",
    "version": 3
   },
   "file_extension": ".py",
   "mimetype": "text/x-python",
   "name": "python",
   "nbconvert_exporter": "python",
   "pygments_lexer": "ipython3",
   "version": "3.8.8"
  }
 },
 "nbformat": 4,
 "nbformat_minor": 1
}
